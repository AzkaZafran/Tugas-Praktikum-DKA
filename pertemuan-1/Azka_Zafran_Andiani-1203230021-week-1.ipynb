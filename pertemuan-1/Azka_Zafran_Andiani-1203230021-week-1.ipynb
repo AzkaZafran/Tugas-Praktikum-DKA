{
 "cells": [
  {
   "cell_type": "markdown",
   "metadata": {},
   "source": [
    "Nama: Azka Zafran Andiani\n",
    "\n",
    "NIM: 1203230021\n",
    "\n",
    "Kelas: IF-03-02"
   ]
  },
  {
   "cell_type": "markdown",
   "metadata": {},
   "source": [
    "### Tugas Praktikum DKA Week 1"
   ]
  },
  {
   "cell_type": "markdown",
   "metadata": {},
   "source": [
    "Soal 1a: Program menampilkan Hello World"
   ]
  },
  {
   "cell_type": "code",
   "execution_count": 4,
   "metadata": {},
   "outputs": [
    {
     "name": "stdout",
     "output_type": "stream",
     "text": [
      "Hello, World!\n"
     ]
    }
   ],
   "source": [
    "print(\"Hello, World!\")"
   ]
  },
  {
   "cell_type": "markdown",
   "metadata": {},
   "source": [
    "Soal 1b: Menghitung akar sembilan"
   ]
  },
  {
   "cell_type": "code",
   "execution_count": 5,
   "metadata": {},
   "outputs": [
    {
     "name": "stdout",
     "output_type": "stream",
     "text": [
      "3.0\n"
     ]
    }
   ],
   "source": [
    "akar_sembilan = 9**(1/2)\n",
    "print(akar_sembilan)"
   ]
  },
  {
   "cell_type": "markdown",
   "metadata": {},
   "source": [
    "Soal 1c: Menghitung persamaan"
   ]
  },
  {
   "cell_type": "code",
   "execution_count": 2,
   "metadata": {},
   "outputs": [
    {
     "name": "stdout",
     "output_type": "stream",
     "text": [
      "160.0\n"
     ]
    }
   ],
   "source": [
    "x = float(input(\"Masukkan nilai x: \"))\n",
    "hasil_persamaan = 20*(x**2) + 25*x + 30\n",
    "print(hasil_persamaan)"
   ]
  },
  {
   "cell_type": "markdown",
   "metadata": {},
   "source": [
    "Soal 2a: Mengecek bilangan ganjil atau genap"
   ]
  },
  {
   "cell_type": "code",
   "execution_count": 3,
   "metadata": {},
   "outputs": [
    {
     "name": "stdout",
     "output_type": "stream",
     "text": [
      "Bilangan Genap\n"
     ]
    }
   ],
   "source": [
    "num = int(input(\"Masukkan sebuah angka: \"))\n",
    "\n",
    "if(num % 2 == 0):\n",
    "    print(\"Bilangan Genap\")\n",
    "else:\n",
    "    print(\"Bilangan Ganjil\")"
   ]
  },
  {
   "cell_type": "markdown",
   "metadata": {},
   "source": [
    "Soal 2b: menampilkan indeks huruf sesuai dengan input user"
   ]
  },
  {
   "cell_type": "code",
   "execution_count": 10,
   "metadata": {},
   "outputs": [
    {
     "name": "stdout",
     "output_type": "stream",
     "text": [
      "B\n"
     ]
    }
   ],
   "source": [
    "nilai = float(input(\"Masukkan angka (0 - 100): \"))\n",
    "\n",
    "if(nilai <= 100 and nilai >= 85):\n",
    "    print(\"A\")\n",
    "elif(nilai <= 84 and nilai >= 70):\n",
    "    print(\"B\")\n",
    "elif(nilai <= 69 and nilai >= 55):\n",
    "    print(\"C\")\n",
    "elif(nilai <= 54 and nilai >= 40):\n",
    "    print(\"D\")\n",
    "elif(nilai <= 39 and nilai >= 0):\n",
    "    print(\"E\")\n",
    "else:\n",
    "    print(\"Angka yang dimasukkan diluar dari rentang 0 - 100\")\n"
   ]
  },
  {
   "cell_type": "markdown",
   "metadata": {},
   "source": [
    "Soal 3a: Prosedur penyambutan user Reza"
   ]
  },
  {
   "cell_type": "code",
   "execution_count": null,
   "metadata": {},
   "outputs": [
    {
     "name": "stdout",
     "output_type": "stream",
     "text": [
      "Selamat Datang, reza\n"
     ]
    }
   ],
   "source": [
    "def greet_reza(nama: str) :\n",
    "    if nama == \"Reza\" :\n",
    "        print(\"Selamat Datang Kembali, \" + nama)\n",
    "    else :\n",
    "        print(\"Selamat Datang, \" + nama)\n",
    "\n",
    "input_nama = input(\"Masukkan nama: \")\n",
    "greet_reza(input_nama)"
   ]
  },
  {
   "cell_type": "markdown",
   "metadata": {},
   "source": [
    "Soal 3b: Fungsi Konversi satuan Kilometer ke Meter"
   ]
  },
  {
   "cell_type": "code",
   "execution_count": 17,
   "metadata": {},
   "outputs": [
    {
     "name": "stdout",
     "output_type": "stream",
     "text": [
      "2500\n"
     ]
    }
   ],
   "source": [
    "def ConvertKMeterToMeter(num:float):\n",
    "    num = int(num*(10**3))\n",
    "    return num\n",
    "\n",
    "input_nomor = float(input(\"Masukkan angka dalam satuan KM: \"))\n",
    "\n",
    "hasil_konversi = ConvertKMeterToMeter(input_nomor)\n",
    "print(hasil_konversi)"
   ]
  },
  {
   "cell_type": "markdown",
   "metadata": {},
   "source": [
    "Soal 4a: Output bilangan ganjil dari rentang bilangan input user"
   ]
  },
  {
   "cell_type": "code",
   "execution_count": 20,
   "metadata": {},
   "outputs": [
    {
     "name": "stdout",
     "output_type": "stream",
     "text": [
      "Angka tidak bulat positif!\n"
     ]
    }
   ],
   "source": [
    "# Buat kode untuk meminta input pengguna dan konversi input ke integer\n",
    "input_nomor = int(input(\"Masukkan angka bulat positif: \"))\n",
    "if(input_nomor < 0):\n",
    "    print(\"Angka tidak bulat positif!\")\n",
    "    exit(1)\n",
    "\n",
    "# Perulangan untuk menampilkan angka ganjil sesuai input user\n",
    "for i in range(1, input_nomor+1, 2):\n",
    "    print(i)"
   ]
  },
  {
   "cell_type": "markdown",
   "metadata": {},
   "source": [
    "Soal 4b: Menghitung jumlah rentang bilangan bulat input user"
   ]
  },
  {
   "cell_type": "code",
   "execution_count": null,
   "metadata": {},
   "outputs": [
    {
     "name": "stdout",
     "output_type": "stream",
     "text": [
      "15\n"
     ]
    }
   ],
   "source": [
    "def SumRange(num:int) :\n",
    "    if(num < 1) :\n",
    "        return 0\n",
    "    else :\n",
    "        total = 0\n",
    "        i = 0\n",
    "        while i <= num :\n",
    "            total += i\n",
    "            i += 1\n",
    "        return total\n",
    "\n",
    "input_nomor = int(input(\"Masukkan angka: \"))\n",
    "\n",
    "Jumlah_Rentang = SumRange(input_nomor)\n",
    "print(Jumlah_Rentang)"
   ]
  },
  {
   "cell_type": "markdown",
   "metadata": {},
   "source": [
    "Soal 5a: Mengganti ekstensi file"
   ]
  },
  {
   "cell_type": "code",
   "execution_count": null,
   "metadata": {},
   "outputs": [
    {
     "name": "stdout",
     "output_type": "stream",
     "text": [
      "['app.py', 'main.py', 'formula.py', 'program.py']\n"
     ]
    }
   ],
   "source": [
    "filenames = [\"app.go\", \"main.go\", \"formula.go\", \"program.go\"]\n",
    "new_filenames = []\n",
    "\n",
    "for new_name in filenames :\n",
    "    new_name = new_name.replace(\".go\",\".py\")\n",
    "    new_filenames.append(new_name)\n",
    "\n",
    "print(new_filenames)"
   ]
  },
  {
   "cell_type": "markdown",
   "metadata": {},
   "source": [
    "Soal 5b: Menggabungkan nama domain dengan pengguna menjadi email lengkap"
   ]
  },
  {
   "cell_type": "code",
   "execution_count": null,
   "metadata": {},
   "outputs": [
    {
     "name": "stdout",
     "output_type": "stream",
     "text": [
      "rafly.arj@gmail.com\n",
      "syahreza.adnan@gmail.com\n",
      "valen.hartanto@gmail.com\n",
      "sabrina.tiara@telkomuniversity.ac.id\n",
      "imelda@telkomuniversity.ac.id\n",
      "raihan.omen@yahoo.com\n",
      "dito.asyraf@yahoo.com\n"
     ]
    }
   ],
   "source": [
    "def email_list(domains:dict) :\n",
    "    emails = []\n",
    "\n",
    "    for domain, usernames in domains.items() :\n",
    "        for username in usernames:\n",
    "            emails.append(username+'@'+domain)\n",
    "\n",
    "    return emails\n",
    "\n",
    "email_domain = {\n",
    "    \"gmail.com\": [\"rafly.arj\", \"syahreza.adnan\", \"valen.hartanto\"],\n",
    "    \"telkomuniversity.ac.id\" : [\"sabrina.tiara\", \"imelda\"],\n",
    "    \"yahoo.com\" : [\"raihan.omen\", \"dito.asyraf\"]\n",
    "}\n",
    "\n",
    "full_email = email_list(email_domain)\n",
    "\n",
    "for i in full_email:\n",
    "    print(i)"
   ]
  },
  {
   "cell_type": "markdown",
   "metadata": {},
   "source": [
    "Soal 6: Program pencatatan rata rata nilai siswa dan kelulusannya"
   ]
  },
  {
   "cell_type": "code",
   "execution_count": 1,
   "metadata": {},
   "outputs": [
    {
     "name": "stdout",
     "output_type": "stream",
     "text": [
      "Rata-rata nilai ryan adalah 75.0. Status: Lulus\n",
      "Rata-rata nilai pasha adalah 81.33333333333333. Status: Lulus\n",
      "Data siswa:\n",
      "ryan: [80, 80, 65], Rata-rata: 75.0, Status: Lulus\n",
      "pasha: [87, 93, 64], Rata-rata: 81.33333333333333, Status: Lulus\n"
     ]
    }
   ],
   "source": [
    "list_siswa = []\n",
    "Nilai_Siswa = {}\n",
    "\n",
    "ProgramOn = True\n",
    "\n",
    "while(ProgramOn):\n",
    "    siswa = input(\"Masukkan nama siswa: \")\n",
    "    if(siswa.lower() == \"selesai\"):\n",
    "        ProgramOn = False\n",
    "        continue\n",
    "    list_siswa.append(siswa)\n",
    "    Nilai_Pelajaran = []\n",
    "    for i in range(3):\n",
    "        Nilai_Pelajaran.append(int(input(f'Masukkan nilai mata pelajaran {i+1}: ')))\n",
    "    Status = None\n",
    "    rata_rata = sum(Nilai_Pelajaran) / float(len(Nilai_Pelajaran))\n",
    "    if(rata_rata >= 70):\n",
    "        Status = \"Lulus\"\n",
    "    else:\n",
    "        Status = \"Tidak lulus\"\n",
    "    print(f'Rata-rata nilai {siswa} adalah {rata_rata}. Status: {Status}')\n",
    "    data = (Nilai_Pelajaran, rata_rata, Status)\n",
    "    Nilai_Siswa.update({siswa:data})\n",
    "\n",
    "print(\"Data siswa:\")\n",
    "for siswa in list_siswa:\n",
    "    data = Nilai_Siswa[siswa]\n",
    "    nilai, rata_rata, status = data\n",
    "    print(f'{siswa}: {nilai}, Rata-rata: {rata_rata}, Status: {status}')\n",
    "    "
   ]
  }
 ],
 "metadata": {
  "kernelspec": {
   "display_name": "Python 3",
   "language": "python",
   "name": "python3"
  },
  "language_info": {
   "codemirror_mode": {
    "name": "ipython",
    "version": 3
   },
   "file_extension": ".py",
   "mimetype": "text/x-python",
   "name": "python",
   "nbconvert_exporter": "python",
   "pygments_lexer": "ipython3",
   "version": "3.12.4"
  }
 },
 "nbformat": 4,
 "nbformat_minor": 2
}
