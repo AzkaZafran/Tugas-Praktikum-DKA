{
 "cells": [
  {
   "cell_type": "code",
   "execution_count": 2,
   "metadata": {},
   "outputs": [],
   "source": [
    "import numpy as np"
   ]
  },
  {
   "cell_type": "markdown",
   "metadata": {},
   "source": [
    "Soal 1a:"
   ]
  },
  {
   "cell_type": "code",
   "execution_count": 2,
   "metadata": {},
   "outputs": [
    {
     "name": "stdout",
     "output_type": "stream",
     "text": [
      "Tipe array_python: <class 'list'>\n",
      "Tipe array_numpy: <class 'numpy.ndarray'>\n"
     ]
    }
   ],
   "source": [
    "array_python = []\n",
    "\n",
    "array_numpy = np.array([])\n",
    "\n",
    "# Cek tipe variabel\n",
    "print(\"Tipe array_python:\", type(array_python))\n",
    "print(\"Tipe array_numpy:\", type(array_numpy))"
   ]
  },
  {
   "cell_type": "markdown",
   "metadata": {},
   "source": [
    "Soal 1b:"
   ]
  },
  {
   "cell_type": "code",
   "execution_count": 3,
   "metadata": {},
   "outputs": [
    {
     "name": "stdout",
     "output_type": "stream",
     "text": [
      "Array Python: ['10', '50', '20']\n",
      "Array NumPy: ['10' '50' '20']\n"
     ]
    }
   ],
   "source": [
    "data = input(\"Masukkan daftar bilangan, pisahkan dengan koma: \").split(\",\")\n",
    "\n",
    "array_python = data\n",
    "\n",
    "array_numpy = np.array(data) \n",
    "\n",
    "print(\"Array Python:\", array_python)\n",
    "print(\"Array NumPy:\", array_numpy)"
   ]
  },
  {
   "cell_type": "markdown",
   "metadata": {},
   "source": [
    "Soal 2:"
   ]
  },
  {
   "cell_type": "code",
   "execution_count": 5,
   "metadata": {},
   "outputs": [
    {
     "name": "stdout",
     "output_type": "stream",
     "text": [
      "Jumlah dimensi: 2\n",
      "Bentuk array: (2, 3)\n",
      "Ukuran array: 6\n",
      "Tipe data array: <class 'numpy.ndarray'>\n"
     ]
    }
   ],
   "source": [
    "array_numpy = np.array([[1, 2, 3], [4, 5, 6]])\n",
    " \n",
    "jumlah_dimensi = array_numpy.ndim\n",
    "\n",
    "bentuk_array = array_numpy.shape\n",
    "\n",
    "ukuran_array = array_numpy.size\n",
    "\n",
    "tipe_data = type(array_numpy)\n",
    "\n",
    "print(\"Jumlah dimensi:\", jumlah_dimensi)\n",
    "print(\"Bentuk array:\", bentuk_array)\n",
    "print(\"Ukuran array:\", ukuran_array)\n",
    "print(\"Tipe data array:\", tipe_data)"
   ]
  },
  {
   "cell_type": "markdown",
   "metadata": {},
   "source": [
    "Soal 3a:"
   ]
  },
  {
   "cell_type": "code",
   "execution_count": 28,
   "metadata": {},
   "outputs": [
    {
     "name": "stdout",
     "output_type": "stream",
     "text": [
      "[[0 0 0]\n",
      " [0 0 0]]\n"
     ]
    }
   ],
   "source": [
    "array = np.full((2, 3), 0)\n",
    "\n",
    "print(array)"
   ]
  },
  {
   "cell_type": "markdown",
   "metadata": {},
   "source": [
    "Soal 3b:"
   ]
  },
  {
   "cell_type": "code",
   "execution_count": 27,
   "metadata": {},
   "outputs": [
    {
     "name": "stdout",
     "output_type": "stream",
     "text": [
      "[[[1 1 1 1]\n",
      "  [1 1 1 1]]\n",
      "\n",
      " [[1 1 1 1]\n",
      "  [1 1 1 1]]\n",
      "\n",
      " [[1 1 1 1]\n",
      "  [1 1 1 1]]]\n"
     ]
    }
   ],
   "source": [
    "array = np.full((3, 2, 4), 1)\n",
    "\n",
    "print(array)"
   ]
  },
  {
   "cell_type": "markdown",
   "metadata": {},
   "source": [
    "Soal 3c:"
   ]
  },
  {
   "cell_type": "code",
   "execution_count": 17,
   "metadata": {},
   "outputs": [
    {
     "name": "stdout",
     "output_type": "stream",
     "text": [
      "[0.36143073 0.52685351 0.73205077 0.83135196 0.68531226]\n"
     ]
    }
   ],
   "source": [
    "array = np.random.random(5)\n",
    "\n",
    "print(array)"
   ]
  },
  {
   "cell_type": "markdown",
   "metadata": {},
   "source": [
    "Soal 3d:"
   ]
  },
  {
   "cell_type": "code",
   "execution_count": 21,
   "metadata": {},
   "outputs": [
    {
     "name": "stdout",
     "output_type": "stream",
     "text": [
      "[ 0  1  2  3  4  5  6  7  8  9 10]\n"
     ]
    }
   ],
   "source": [
    "array = np.arange(0, 11)\n",
    "\n",
    "print(array)"
   ]
  },
  {
   "cell_type": "markdown",
   "metadata": {},
   "source": [
    "Soal 3e:"
   ]
  },
  {
   "cell_type": "code",
   "execution_count": 25,
   "metadata": {},
   "outputs": [
    {
     "name": "stdout",
     "output_type": "stream",
     "text": [
      "[0.   0.25 0.5  0.75 1.  ]\n"
     ]
    }
   ],
   "source": [
    "array = np.linspace(0, 1, 5)\n",
    "\n",
    "print(array)"
   ]
  },
  {
   "cell_type": "markdown",
   "metadata": {},
   "source": [
    "Soal 3f:"
   ]
  },
  {
   "cell_type": "code",
   "execution_count": 26,
   "metadata": {},
   "outputs": [
    {
     "name": "stdout",
     "output_type": "stream",
     "text": [
      "[[7 7 7]\n",
      " [7 7 7]]\n"
     ]
    }
   ],
   "source": [
    "array = np.full((2, 3), 7)\n",
    "\n",
    "print(array)"
   ]
  },
  {
   "cell_type": "markdown",
   "metadata": {},
   "source": [
    "Soal 3g:"
   ]
  },
  {
   "cell_type": "code",
   "execution_count": 31,
   "metadata": {},
   "outputs": [
    {
     "name": "stdout",
     "output_type": "stream",
     "text": [
      "[0.47867463 0.30174006 0.29708716 0.34286322]\n"
     ]
    }
   ],
   "source": [
    "array = np.random.uniform(0, 1, 4)\n",
    "\n",
    "print(array)"
   ]
  },
  {
   "cell_type": "markdown",
   "metadata": {},
   "source": [
    "Soal 3h:"
   ]
  },
  {
   "cell_type": "code",
   "execution_count": 33,
   "metadata": {},
   "outputs": [
    {
     "name": "stdout",
     "output_type": "stream",
     "text": [
      "[[10  8  1]\n",
      " [ 8  4  6]\n",
      " [ 9  2  2]]\n"
     ]
    }
   ],
   "source": [
    "array = np.random.randint(1, 11, (3, 3))\n",
    "\n",
    "print(array)"
   ]
  },
  {
   "cell_type": "markdown",
   "metadata": {},
   "source": [
    "Soal 3i:"
   ]
  },
  {
   "cell_type": "code",
   "execution_count": 3,
   "metadata": {},
   "outputs": [
    {
     "name": "stdout",
     "output_type": "stream",
     "text": [
      "[[0 0 0]\n",
      " [0 1 2]\n",
      " [0 2 4]]\n"
     ]
    }
   ],
   "source": [
    "def perkalian(x, y):\n",
    "    return x * y\n",
    "\n",
    "array = np.fromfunction(perkalian, (3, 3), dtype=int)\n",
    "\n",
    "print(array)"
   ]
  },
  {
   "cell_type": "markdown",
   "metadata": {},
   "source": [
    "Soal 4a:"
   ]
  },
  {
   "cell_type": "code",
   "execution_count": 35,
   "metadata": {},
   "outputs": [
    {
     "name": "stdout",
     "output_type": "stream",
     "text": [
      "['Afeef' 'Rafly' 'Arya' 'Reza' 'Valen' 'Iksan']\n"
     ]
    }
   ],
   "source": [
    "kelas_A = np.array(['Afeef', 'Rafly', 'Arya'])\n",
    "kelas_B = np.array(['Reza', 'Valen', 'Iksan'])\n",
    "\n",
    "data_mahasiswa = np.concatenate((kelas_A, kelas_B))\n",
    "print(data_mahasiswa)"
   ]
  },
  {
   "cell_type": "markdown",
   "metadata": {},
   "source": [
    "Soal 4b:"
   ]
  },
  {
   "cell_type": "code",
   "execution_count": 39,
   "metadata": {},
   "outputs": [
    {
     "name": "stdout",
     "output_type": "stream",
     "text": [
      "[75 80 85 70 90 95]\n"
     ]
    }
   ],
   "source": [
    "nilai_A = np.array([75, 80, 85])\n",
    "nilai_B = np.array([70, 90, 95])\n",
    "\n",
    "nilai_total = np.append(nilai_A, nilai_B)\n",
    "\n",
    "print(nilai_total)"
   ]
  },
  {
   "cell_type": "markdown",
   "metadata": {},
   "source": [
    "Soal 4c:"
   ]
  },
  {
   "cell_type": "code",
   "execution_count": null,
   "metadata": {},
   "outputs": [
    {
     "name": "stdout",
     "output_type": "stream",
     "text": [
      "[85 88 90 95]\n"
     ]
    }
   ],
   "source": [
    "nilai = np.array([85, 90, 95])\n",
    "\n",
    "nilai_dengan_uts = np.insert(nilai, 1, 88)\n",
    "print(nilai_dengan_uts)"
   ]
  },
  {
   "cell_type": "markdown",
   "metadata": {},
   "source": [
    "Soal 4d:"
   ]
  },
  {
   "cell_type": "code",
   "execution_count": null,
   "metadata": {},
   "outputs": [
    {
     "name": "stdout",
     "output_type": "stream",
     "text": [
      "[[80 85 90]\n",
      " [75 88 92]]\n"
     ]
    }
   ],
   "source": [
    "nilai_kelas_A = np.array([80, 85, 90])\n",
    "nilai_kelas_B = np.array([75, 88, 92])\n",
    "\n",
    "nilai_gabungan = np.insert(np.array([nilai_kelas_A]), [1], nilai_kelas_B, 0)\n",
    "print(nilai_gabungan)"
   ]
  },
  {
   "cell_type": "markdown",
   "metadata": {},
   "source": [
    "Soal 5a:"
   ]
  },
  {
   "cell_type": "code",
   "execution_count": null,
   "metadata": {},
   "outputs": [
    {
     "name": "stdout",
     "output_type": "stream",
     "text": [
      "[10 18 22]\n"
     ]
    }
   ],
   "source": [
    "nilai_eksperimen = np.array([10, 15, 18, 22])\n",
    "\n",
    "del_idx = int(input(\"masukkan index data yang ingin dihapus: \"))\n",
    "\n",
    "nilai_bersih = np.delete(nilai_eksperimen, del_idx)\n",
    "print(nilai_bersih)"
   ]
  },
  {
   "cell_type": "markdown",
   "metadata": {},
   "source": [
    "Soal 5b:"
   ]
  },
  {
   "cell_type": "code",
   "execution_count": null,
   "metadata": {},
   "outputs": [
    {
     "name": "stdout",
     "output_type": "stream",
     "text": [
      "Masukkan nomor kelompok dan urutan siswa, dengan dipisahkan oleh koma (,)\n",
      "[[90 88]\n",
      " [82 84]\n",
      " [80 85]]\n"
     ]
    }
   ],
   "source": [
    "hasil_tes = np.array([[85, 90, 88],\n",
    "                      [78, 82, 84],\n",
    "                      [93, 89, 92],\n",
    "                      [75, 80, 85]])\n",
    "\n",
    "print(\"Masukkan nomor kelompok dan urutan siswa, dengan dipisahkan oleh koma (,)\")\n",
    "\n",
    "target_hapus = input().split(',')\n",
    "target_hapus = [int(s) - 1 for s in target_hapus]\n",
    "\n",
    "hasil_tes_baru = np.delete(hasil_tes, target_hapus[0], 0)\n",
    "hasil_tes_baru = np.delete(hasil_tes_baru, target_hapus[1], 1)\n",
    "\n",
    "print(hasil_tes_baru)"
   ]
  },
  {
   "cell_type": "markdown",
   "metadata": {},
   "source": [
    "Soal 5c:"
   ]
  },
  {
   "cell_type": "code",
   "execution_count": null,
   "metadata": {},
   "outputs": [
    {
     "name": "stdout",
     "output_type": "stream",
     "text": [
      "[15 22 17]\n"
     ]
    }
   ],
   "source": [
    "data = np.array([10, 3, 15, 7, 22, 17])\n",
    "\n",
    "batas_nilai = int(input(\"Masukkan batas nilai: \"))\n",
    "\n",
    "data_bersih = np.delete(data, data < batas_nilai)\n",
    "\n",
    "print(data_bersih)"
   ]
  },
  {
   "cell_type": "markdown",
   "metadata": {},
   "source": [
    "Soal 6a:"
   ]
  },
  {
   "cell_type": "code",
   "execution_count": null,
   "metadata": {},
   "outputs": [
    {
     "name": "stdout",
     "output_type": "stream",
     "text": [
      "[25000 30000 35000 45000 50000]\n"
     ]
    }
   ],
   "source": [
    "harga_barang = np.array([35000, 25000, 50000, 45000, 30000])\n",
    "\n",
    "harga_urut = np.sort(harga_barang)\n",
    "\n",
    "print(harga_urut)"
   ]
  },
  {
   "cell_type": "markdown",
   "metadata": {},
   "source": [
    "Soal 6b:"
   ]
  },
  {
   "cell_type": "code",
   "execution_count": null,
   "metadata": {},
   "outputs": [
    {
     "name": "stdout",
     "output_type": "stream",
     "text": [
      "[[78 85 90]\n",
      " [85 89 92]\n",
      " [76 80 84]]\n"
     ]
    }
   ],
   "source": [
    "skor_siswa = np.array([[85, 78, 90], [92, 89, 85], [76, 84, 80]])\n",
    "\n",
    "skor_urut = np.sort(skor_siswa)\n",
    "\n",
    "print(skor_urut)"
   ]
  },
  {
   "cell_type": "markdown",
   "metadata": {},
   "source": [
    "Soal 6c:"
   ]
  },
  {
   "cell_type": "code",
   "execution_count": null,
   "metadata": {},
   "outputs": [
    {
     "name": "stdout",
     "output_type": "stream",
     "text": [
      "[1 3 4 6 7 9]\n"
     ]
    }
   ],
   "source": [
    "data = np.array([[9, 4, 6], [3, 7, 1]])\n",
    "\n",
    "data_urut = data.flatten()\n",
    "data_urut = np.sort(data_urut)\n",
    "\n",
    "print(data_urut)"
   ]
  },
  {
   "cell_type": "markdown",
   "metadata": {},
   "source": [
    "Soal 7a:"
   ]
  },
  {
   "cell_type": "code",
   "execution_count": null,
   "metadata": {},
   "outputs": [
    {
     "name": "stdout",
     "output_type": "stream",
     "text": [
      "Suhu hari tertentu: [30 34 21 32]\n",
      "Rata-rata: 29.25\n"
     ]
    }
   ],
   "source": [
    "suhu = np.random.randint(20, 40, 30)\n",
    "\n",
    "suhu_tertentu = np.array([suhu[4], suhu[9], suhu[24], suhu[29]])\n",
    "\n",
    "rata_rata = suhu_tertentu.mean()\n",
    "\n",
    "print(f\"Suhu hari tertentu: {suhu_tertentu}\")\n",
    "print(f\"Rata-rata: {rata_rata}\")"
   ]
  },
  {
   "cell_type": "markdown",
   "metadata": {},
   "source": [
    "Soal 7b:"
   ]
  },
  {
   "cell_type": "code",
   "execution_count": 104,
   "metadata": {},
   "outputs": [
    {
     "name": "stdout",
     "output_type": "stream",
     "text": [
      "Data bakteri: [100 240 150 220 160]\n",
      "Total pertumbuhan: 870\n"
     ]
    }
   ],
   "source": [
    "# Data pertumbuhan bakteri selama 10 hari\n",
    "pertumbuhan_bakteri = np.array([100, 120, 240, 130, 150, 110, 220, 175, 160, 200])\n",
    "\n",
    "# Ambil data setiap 2 hari\n",
    "data_tertentu = pertumbuhan_bakteri[::2]\n",
    "\n",
    "# Hitung total pertumbuhan\n",
    "total_pertumbuhan = data_tertentu.sum()\n",
    "\n",
    "print(f\"Data bakteri: {data_tertentu}\")\n",
    "print(f\"Total pertumbuhan: {total_pertumbuhan}\")"
   ]
  },
  {
   "cell_type": "markdown",
   "metadata": {},
   "source": [
    "Soal 7c:"
   ]
  },
  {
   "cell_type": "code",
   "execution_count": 105,
   "metadata": {},
   "outputs": [
    {
     "name": "stdout",
     "output_type": "stream",
     "text": [
      "Stok barang tersisa: [51 75 57 92 64 66]\n",
      "Total stok tersisa: 405\n"
     ]
    }
   ],
   "source": [
    "stok_barang = np.array([41, 51, 75, 57, 92, 13, 35, 64, 24, 66])\n",
    "\n",
    "# Filter barang dengan stok >= 50\n",
    "stok_tersisa = np.delete(stok_barang, stok_barang < 50)\n",
    "\n",
    "# Hitung total stok tersisa\n",
    "total_stok = stok_tersisa.sum()\n",
    "\n",
    "print(f\"Stok barang tersisa: {stok_tersisa}\")\n",
    "print(f\"Total stok tersisa: {total_stok}\")"
   ]
  },
  {
   "cell_type": "markdown",
   "metadata": {},
   "source": [
    "Soal 7d:"
   ]
  },
  {
   "cell_type": "code",
   "execution_count": null,
   "metadata": {},
   "outputs": [
    {
     "name": "stdout",
     "output_type": "stream",
     "text": [
      "Nilai siswa: [92 80 85]\n"
     ]
    }
   ],
   "source": [
    "nilai = np.array([[80, 75, 85, 90, 95],\n",
    "                  [70, 85, 80, 75, 90],\n",
    "                  [88, 92, 77, 80, 85],\n",
    "                  [65, 70, 85, 95, 100]])\n",
    "\n",
    "nilai_tertentu = np.array([nilai[2,1], nilai[2,3], nilai[2, 4]])\n",
    "\n",
    "print(f\"Nilai siswa: {nilai_tertentu}\")"
   ]
  },
  {
   "cell_type": "markdown",
   "metadata": {},
   "source": [
    "Soal 8a:"
   ]
  },
  {
   "cell_type": "code",
   "execution_count": null,
   "metadata": {},
   "outputs": [
    {
     "name": "stdout",
     "output_type": "stream",
     "text": [
      "Data Copy: [10 20 20 25 30]\n",
      "Data Asli: [10 20 20 25 30]\n"
     ]
    }
   ],
   "source": [
    "data_asli = np.array([10, 15, 20, 25, 30])\n",
    "\n",
    "data_copy = data_asli\n",
    "\n",
    "informasi_perubahan = input(\"Masukkan indeks elemen dan nilai yang ingin diubah (dipisah dengan koma): \").split(',')\n",
    "[index, value] = [int(s) for s in informasi_perubahan]\n",
    "\n",
    "data_copy[index] = value\n",
    "\n",
    "print(\"Data Copy:\", data_copy)\n",
    "print(\"Data Asli:\", data_asli)"
   ]
  },
  {
   "cell_type": "markdown",
   "metadata": {},
   "source": [
    "Soal 8b:"
   ]
  },
  {
   "cell_type": "code",
   "execution_count": null,
   "metadata": {},
   "outputs": [
    {
     "name": "stdout",
     "output_type": "stream",
     "text": [
      "Data Cuaca Copy:\n",
      " [[30 32 35]\n",
      " [28 27 40]\n",
      " [33 31 29]]\n",
      "Data Cuaca Asli:\n",
      " [[30 32 35]\n",
      " [28 27 26]\n",
      " [33 31 29]]\n"
     ]
    }
   ],
   "source": [
    "data_cuaca = np.array([[30, 32, 35], [28, 27, 26], [33, 31, 29]])\n",
    "\n",
    "data_cuaca_copy = np.copy(data_cuaca)\n",
    "\n",
    "data_cuaca_copy[1,2] = 40\n",
    "\n",
    "print(\"Data Cuaca Copy:\\n\", data_cuaca_copy)\n",
    "print(\"Data Cuaca Asli:\\n\", data_cuaca)"
   ]
  },
  {
   "cell_type": "markdown",
   "metadata": {},
   "source": [
    "Soal 9a:"
   ]
  },
  {
   "cell_type": "code",
   "execution_count": 110,
   "metadata": {},
   "outputs": [
    {
     "name": "stdout",
     "output_type": "stream",
     "text": [
      "Nilai Maksimum: 90\n",
      "Selisih Maksimum dan Rata-rata: 12.0\n"
     ]
    }
   ],
   "source": [
    "# Data nilai ujian siswa dalam array\n",
    "nilai_ujian = np.array([75, 80, 90, 85, 60])\n",
    "\n",
    "# Temukan nilai maksimum\n",
    "nilai_maksimum = nilai_ujian.max()\n",
    "\n",
    "# Hitung nilai rata-rata\n",
    "nilai_rata_rata = nilai_ujian.mean()\n",
    "\n",
    "# Hitung selisih antara nilai maksimum dan rata-rata\n",
    "selisih = abs(nilai_maksimum - nilai_rata_rata) \n",
    "\n",
    "# Tampilkan nilai maksimum dan selisihnya\n",
    "print(\"Nilai Maksimum:\", nilai_maksimum)\n",
    "print(\"Selisih Maksimum dan Rata-rata:\", selisih)"
   ]
  },
  {
   "cell_type": "markdown",
   "metadata": {},
   "source": [
    "Soal 9b:"
   ]
  },
  {
   "cell_type": "code",
   "execution_count": null,
   "metadata": {},
   "outputs": [
    {
     "name": "stdout",
     "output_type": "stream",
     "text": [
      "Waktu Tercepat: 48.7\n",
      "Selisih Waktu Tercepat dan Rata-rata: 2\n"
     ]
    }
   ],
   "source": [
    "waktu_renang = np.array([50.5, 52.0, 48.7, 49.8, 51.2])\n",
    "\n",
    "waktu_tercepat = waktu_renang.min()  \n",
    "\n",
    "waktu_rata_rata = waktu_renang.mean()\n",
    "\n",
    "selisih_waktu = round(abs(waktu_tercepat - waktu_rata_rata))\n",
    "\n",
    "print(\"Waktu Tercepat:\", waktu_tercepat)\n",
    "print(\"Selisih Waktu Tercepat dan Rata-rata:\", selisih_waktu)"
   ]
  },
  {
   "cell_type": "markdown",
   "metadata": {},
   "source": [
    "Soal 9c:"
   ]
  },
  {
   "cell_type": "code",
   "execution_count": 114,
   "metadata": {},
   "outputs": [
    {
     "name": "stdout",
     "output_type": "stream",
     "text": [
      "Total Skor: 417\n",
      "Rata-rata Skor per Putaran: 83.4\n"
     ]
    }
   ],
   "source": [
    "skor_tim_A = np.array([85, 78, 90, 88, 76])\n",
    "\n",
    "total_skor = skor_tim_A.sum()  \n",
    "\n",
    "rata_rata_skor = skor_tim_A.mean() \n",
    "\n",
    "print(\"Total Skor:\", total_skor)\n",
    "print(\"Rata-rata Skor per Putaran:\", rata_rata_skor)"
   ]
  },
  {
   "cell_type": "markdown",
   "metadata": {},
   "source": [
    "Soal 9d:"
   ]
  },
  {
   "cell_type": "code",
   "execution_count": null,
   "metadata": {},
   "outputs": [
    {
     "name": "stdout",
     "output_type": "stream",
     "text": [
      "Rata-rata Harga Penutupan: 150.44\n",
      "Harga Penutupan Terakhir dibanding Rata-rata: 0.7599999999999909\n"
     ]
    }
   ],
   "source": [
    "harga_penutupan = np.array([150.5, 152.0, 148.7, 149.8, 151.2])\n",
    "\n",
    "rata_rata_harga = harga_penutupan.mean() \n",
    "\n",
    "perbandingan = harga_penutupan[-1] - rata_rata_harga\n",
    "\n",
    "print(\"Rata-rata Harga Penutupan:\", rata_rata_harga)\n",
    "print(\"Harga Penutupan Terakhir dibanding Rata-rata:\", perbandingan)"
   ]
  },
  {
   "cell_type": "markdown",
   "metadata": {},
   "source": [
    "Soal 10a:"
   ]
  },
  {
   "cell_type": "code",
   "execution_count": 118,
   "metadata": {},
   "outputs": [
    {
     "name": "stdout",
     "output_type": "stream",
     "text": [
      "Data mahasiswa:\n",
      "[['Farah' '123' 'IF']\n",
      " ['Tiara' '456' 'DS']\n",
      " ['Imelda' '789' 'RPL']]\n"
     ]
    }
   ],
   "source": [
    "# Data mahasiswa (Nama, NIM, Jurusan)\n",
    "data_mahasiswa = np.array([['Farah', 'Tiara', 'Imelda'], ['123', '456', '789'], ['IF', 'DS', 'RPL']])\n",
    "\n",
    "# Ubah data_mahasiswa\n",
    "data_1 = data_mahasiswa.transpose()\n",
    "\n",
    "print(\"Data mahasiswa:\")\n",
    "print(data_1)"
   ]
  },
  {
   "cell_type": "markdown",
   "metadata": {},
   "source": [
    "Soal 10b:"
   ]
  },
  {
   "cell_type": "code",
   "execution_count": 120,
   "metadata": {},
   "outputs": [
    {
     "name": "stdout",
     "output_type": "stream",
     "text": [
      "Array nilai:\n",
      "[[80 90 85]\n",
      " [78 92 88]]\n"
     ]
    }
   ],
   "source": [
    "# Data nilai mahasiswa\n",
    "nilai = np.array([80, 90, 85, 78, 92, 88])\n",
    "\n",
    "# Bentuk ulang array nilai menjadi 2D dengan 3 kolom\n",
    "nilai_1 = nilai.reshape((2, 3))\n",
    "\n",
    "\n",
    "print(\"Array nilai:\")\n",
    "print(nilai_1)"
   ]
  },
  {
   "cell_type": "markdown",
   "metadata": {},
   "source": [
    "Soal 10c:"
   ]
  },
  {
   "cell_type": "code",
   "execution_count": 121,
   "metadata": {},
   "outputs": [
    {
     "name": "stdout",
     "output_type": "stream",
     "text": [
      "Data penjualan:\n",
      "[[120 180 130]\n",
      " [150 100 170]]\n"
     ]
    }
   ],
   "source": [
    "penjualan = np.array([120, 150, 180, 100, 130, 170])\n",
    "\n",
    "penjualan_1 = penjualan.reshape((3, 2)).transpose()\n",
    "\n",
    "print(\"Data penjualan:\")\n",
    "print(penjualan_1)"
   ]
  },
  {
   "cell_type": "markdown",
   "metadata": {},
   "source": [
    "Soal 11:"
   ]
  },
  {
   "cell_type": "code",
   "execution_count": 134,
   "metadata": {},
   "outputs": [
    {
     "name": "stdout",
     "output_type": "stream",
     "text": [
      "Data Statistik Asli:\n",
      "[[ 8  8  7]\n",
      " [10  7  9]\n",
      " [ 8  8  6]\n",
      " [ 6  7  6]\n",
      " [ 6  6  9]\n",
      " [ 9  6  6]\n",
      " [ 6  6  7]\n",
      " [ 6  7  6]\n",
      " [ 8  9 10]\n",
      " [ 6  7  6]]\n",
      "Subset Data Statistik: \n",
      "[[ 8  8  7]\n",
      " [10  7  9]\n",
      " [ 8  8  6]\n",
      " [ 6  6  9]\n",
      " [ 9  6  6]\n",
      " [ 8  9 10]]\n",
      "Data setelah di transpose: \n",
      "[[ 8 10  8  6  9  8]\n",
      " [ 8  7  8  6  6  9]\n",
      " [ 7  9  6  9  6 10]]\n",
      "Rata - Rata Performa Team A: 8.166666666666666\n",
      "Rata - Rata Performa Team B: 7.333333333333333\n",
      "Rata - Rata Performa Team C: 7.833333333333333\n"
     ]
    }
   ],
   "source": [
    "data_statistik = np.array([\n",
    "    [8, 8, 7], \n",
    "    [10, 7, 9], \n",
    "    [8, 8, 6], \n",
    "    [6, 7, 6], \n",
    "    [6, 6, 9], \n",
    "    [9, 6, 6], \n",
    "    [6, 6, 7], \n",
    "    [6, 7, 6], \n",
    "    [8, 9, 10], \n",
    "    [6, 7, 6]\n",
    "])\n",
    "print(\"Data Statistik Asli:\")\n",
    "print(data_statistik)\n",
    "\n",
    "subset_data = np.delete(data_statistik, data_statistik.mean(1) < 7, axis=0)\n",
    "print(\"Subset Data Statistik: \")\n",
    "print(subset_data)\n",
    "\n",
    "copy_data = np.copy(subset_data)\n",
    "performa_tim_per_hari = copy_data.transpose()\n",
    "print(\"Data setelah di transpose: \")\n",
    "print(performa_tim_per_hari)\n",
    "\n",
    "rata_rata_performa_tim_per_hari = performa_tim_per_hari.mean(1)\n",
    "for rata_rata, tim in zip(rata_rata_performa_tim_per_hari, ['A', 'B', 'C']):\n",
    "    print(f'Rata - Rata Performa Team {tim}: {rata_rata}')"
   ]
  }
 ],
 "metadata": {
  "kernelspec": {
   "display_name": "Python 3",
   "language": "python",
   "name": "python3"
  },
  "language_info": {
   "codemirror_mode": {
    "name": "ipython",
    "version": 3
   },
   "file_extension": ".py",
   "mimetype": "text/x-python",
   "name": "python",
   "nbconvert_exporter": "python",
   "pygments_lexer": "ipython3",
   "version": "3.12.4"
  }
 },
 "nbformat": 4,
 "nbformat_minor": 2
}
