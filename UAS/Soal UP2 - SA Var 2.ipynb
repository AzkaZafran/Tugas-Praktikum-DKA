{
 "cells": [
  {
   "cell_type": "markdown",
   "metadata": {
    "id": "u4fKqMAMm0Xf"
   },
   "source": [
    "### Soal: Pengaturan Letak Sensor di Area 2D\n",
    "Letakkan 5 sensor dalam area 10x10 sehingga saling berjauhan sejauh mungkin. Gunakan SA untuk meminimalkan total tumpang tindih antar sensor.\n",
    "\n",
    "$$\n",
    "\\text{jarak}(a, b) = \\sqrt{(x_1 - x_2)^2 + (y_1 - y_2)^2}\n",
    "$$"
   ]
  },
  {
   "cell_type": "code",
   "execution_count": 1,
   "metadata": {
    "id": "U8vMKsiclCgw"
   },
   "outputs": [],
   "source": [
    "import random, math  # Import pustaka random dan math"
   ]
  },
  {
   "cell_type": "code",
   "execution_count": 2,
   "metadata": {
    "id": "01uFCuogm80a"
   },
   "outputs": [],
   "source": [
    "def distance(a, b):\n",
    "    # Tugas Anda: Nilai 20\n",
    "    # Jarak Euclidean\n",
    "    return math.sqrt(pow(a[0] - b[0], 2) + pow(a[1] - b[1], 2))"
   ]
  },
  {
   "cell_type": "code",
   "execution_count": 3,
   "metadata": {
    "id": "kBNMWP-DnFKY"
   },
   "outputs": [],
   "source": [
    "def evaluate(sensors):\n",
    "    overlap = 0\n",
    "    for i in range(len(sensors)):\n",
    "        for j in range(i+1, len(sensors)):\n",
    "            # Tugas Anda: Nilai 20\n",
    "            # Hitung pasangan sensor terlalu dekat\n",
    "            dist = distance(sensors[i], sensors[j])\n",
    "            if math.floor(dist) == 0:\n",
    "                overlap += 1\n",
    "    return overlap"
   ]
  },
  {
   "cell_type": "code",
   "execution_count": 4,
   "metadata": {
    "id": "zyreSTEenGyk"
   },
   "outputs": [],
   "source": [
    "def simulated_annealing_sensors(T=100, alpha=0.95):\n",
    "    sensors = [(random.uniform(0, 10), random.uniform(0, 10)) for _ in range(5)]  # Inisialisasi\n",
    "    current_score = evaluate(sensors)\n",
    "\n",
    "    best_sensors = sensors\n",
    "    best_score = current_score\n",
    "    while T > 0.01 and current_score > 0:\n",
    "        new_sensors = sensors[:]\n",
    "        i = random.randint(0, 4)\n",
    "        new_sensors[i] = (random.uniform(0, 10), random.uniform(0, 10))\n",
    "        # Tugas Anda: Nilai 40\n",
    "        # Ubah posisi satu sensor\n",
    "        # Evaluasi solusi baru\n",
    "        new_score = evaluate(new_sensors)\n",
    "        delta = current_score - new_sensors\n",
    "        if delta < 0 or math.exp(-delta / T) > random.random():\n",
    "            # sensors = new_sensors\n",
    "            # current_score = new_score\n",
    "\n",
    "            if current_score < best_score:\n",
    "                best_sensors = sensors\n",
    "                best_score = current_score\n",
    "\n",
    "        T *= alpha  # Pendinginan\n",
    "    return best_sensors, best_score"
   ]
  },
  {
   "cell_type": "code",
   "execution_count": 5,
   "metadata": {
    "id": "aaVfN--pnIzu"
   },
   "outputs": [
    {
     "name": "stdout",
     "output_type": "stream",
     "text": [
      "[(4.857491560803304, 5.710880566257255), (3.8605991360830147, 1.5072088475803636), (7.84787761632396, 1.4524339805686193), (2.3769174868887655, 7.74503510768162), (3.8817550485150623, 7.852390799802642)]\n",
      "0\n"
     ]
    }
   ],
   "source": [
    "# Tugas Anda: Nilai 20\n",
    "# Jalankan algoritma\n",
    "# Cetak hasil\n",
    "sensors , score = simulated_annealing_sensors()\n",
    "print(sensors)\n",
    "print(score)"
   ]
  }
 ],
 "metadata": {
  "colab": {
   "authorship_tag": "ABX9TyMtmmiiHNvDB3C70dD+4jOc",
   "provenance": []
  },
  "kernelspec": {
   "display_name": "Python 3",
   "name": "python3"
  },
  "language_info": {
   "codemirror_mode": {
    "name": "ipython",
    "version": 3
   },
   "file_extension": ".py",
   "mimetype": "text/x-python",
   "name": "python",
   "nbconvert_exporter": "python",
   "pygments_lexer": "ipython3",
   "version": "3.12.4"
  }
 },
 "nbformat": 4,
 "nbformat_minor": 0
}
