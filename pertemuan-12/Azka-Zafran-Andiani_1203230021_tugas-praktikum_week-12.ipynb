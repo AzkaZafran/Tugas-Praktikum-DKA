{
 "cells": [
  {
   "cell_type": "markdown",
   "id": "4b469c09",
   "metadata": {},
   "source": [
    "<div align='center'>\n",
    "    <h1>Praktikum Dasar Kecerdasan Artifisial</h1>\n",
    "    <h3>Modul 12: Implementasi Sympy Module</h3>\n",
    "</div>"
   ]
  },
  {
   "cell_type": "markdown",
   "id": "a9083058",
   "metadata": {},
   "source": [
    "### Import Library"
   ]
  },
  {
   "cell_type": "code",
   "execution_count": null,
   "id": "2f4c569d",
   "metadata": {},
   "outputs": [],
   "source": [
    "import sympy as sp\n",
    "from IPython.display import display, Math # untuk output notasi matematika\n",
    "from collections.abc import Iterable"
   ]
  },
  {
   "cell_type": "markdown",
   "id": "ee78aa8d",
   "metadata": {},
   "source": [
    "### A. Persamaan Linear"
   ]
  },
  {
   "cell_type": "code",
   "execution_count": 11,
   "id": "efdd776c",
   "metadata": {},
   "outputs": [
    {
     "data": {
      "text/latex": [
       "$\\displaystyle 1.\\quad x^{2} - 4 = 0$"
      ],
      "text/plain": [
       "<IPython.core.display.Math object>"
      ]
     },
     "metadata": {},
     "output_type": "display_data"
    },
    {
     "data": {
      "text/latex": [
       "$\\displaystyle \\Rightarrow \\quad \\left[ -2.0, \\  2.0\\right]$"
      ],
      "text/plain": [
       "<IPython.core.display.Math object>"
      ]
     },
     "metadata": {},
     "output_type": "display_data"
    },
    {
     "data": {
      "text/latex": [
       "$\\displaystyle 2.\\quad x^{2} - 3 x - 4 = 0$"
      ],
      "text/plain": [
       "<IPython.core.display.Math object>"
      ]
     },
     "metadata": {},
     "output_type": "display_data"
    },
    {
     "data": {
      "text/latex": [
       "$\\displaystyle \\Rightarrow \\quad \\left[ -1.0, \\  4.0\\right]$"
      ],
      "text/plain": [
       "<IPython.core.display.Math object>"
      ]
     },
     "metadata": {},
     "output_type": "display_data"
    },
    {
     "data": {
      "text/latex": [
       "$\\displaystyle 3.\\quad x^{2} - 6 x + 9 = 0$"
      ],
      "text/plain": [
       "<IPython.core.display.Math object>"
      ]
     },
     "metadata": {},
     "output_type": "display_data"
    },
    {
     "data": {
      "text/latex": [
       "$\\displaystyle \\Rightarrow \\quad \\left[ 3.0\\right]$"
      ],
      "text/plain": [
       "<IPython.core.display.Math object>"
      ]
     },
     "metadata": {},
     "output_type": "display_data"
    },
    {
     "data": {
      "text/latex": [
       "$\\displaystyle 4.\\quad x^{2} - x - 1 = 0$"
      ],
      "text/plain": [
       "<IPython.core.display.Math object>"
      ]
     },
     "metadata": {},
     "output_type": "display_data"
    },
    {
     "data": {
      "text/latex": [
       "$\\displaystyle \\Rightarrow \\quad \\left[ -0.618033988749895, \\  1.61803398874989\\right]$"
      ],
      "text/plain": [
       "<IPython.core.display.Math object>"
      ]
     },
     "metadata": {},
     "output_type": "display_data"
    },
    {
     "data": {
      "text/latex": [
       "$\\displaystyle 5.\\quad x^{3} - 6 x^{2} + 11 x - 6 = 0$"
      ],
      "text/plain": [
       "<IPython.core.display.Math object>"
      ]
     },
     "metadata": {},
     "output_type": "display_data"
    },
    {
     "data": {
      "text/latex": [
       "$\\displaystyle \\Rightarrow \\quad \\left[ 1.0, \\  2.0, \\  3.0\\right]$"
      ],
      "text/plain": [
       "<IPython.core.display.Math object>"
      ]
     },
     "metadata": {},
     "output_type": "display_data"
    },
    {
     "data": {
      "text/latex": [
       "$\\displaystyle 6.\\quad x^{3} - 7 x^{2} + 15 x - 9 = 0$"
      ],
      "text/plain": [
       "<IPython.core.display.Math object>"
      ]
     },
     "metadata": {},
     "output_type": "display_data"
    },
    {
     "data": {
      "text/latex": [
       "$\\displaystyle \\Rightarrow \\quad \\left[ 1.0, \\  3.0\\right]$"
      ],
      "text/plain": [
       "<IPython.core.display.Math object>"
      ]
     },
     "metadata": {},
     "output_type": "display_data"
    },
    {
     "data": {
      "text/latex": [
       "$\\displaystyle 7.\\quad x^{5} + 7 x^{4} - 9 x^{2} + 15 x + 2 = 0$"
      ],
      "text/plain": [
       "<IPython.core.display.Math object>"
      ]
     },
     "metadata": {},
     "output_type": "display_data"
    },
    {
     "data": {
      "text/latex": [
       "$\\displaystyle \\Rightarrow \\quad \\left[ -6.75506212485949, \\  -1.79320769259375, \\  -0.124188671345194, \\  0.836229244399218 - 0.793863862370649 i, \\  0.836229244399218 + 0.793863862370649 i\\right]$"
      ],
      "text/plain": [
       "<IPython.core.display.Math object>"
      ]
     },
     "metadata": {},
     "output_type": "display_data"
    },
    {
     "data": {
      "text/latex": [
       "$\\displaystyle 8.\\quad x^{5} + 9 x^{2} + 2 = 0$"
      ],
      "text/plain": [
       "<IPython.core.display.Math object>"
      ]
     },
     "metadata": {},
     "output_type": "display_data"
    },
    {
     "data": {
      "text/latex": [
       "$\\displaystyle \\Rightarrow \\quad \\left[ -2.11400508065925, \\  -0.00274088737406074 - 0.471332780230528 i, \\  -0.00274088737406074 + 0.471332780230528 i, \\  1.05974342770368 - 1.77071109891802 i, \\  1.05974342770368 + 1.77071109891802 i\\right]$"
      ],
      "text/plain": [
       "<IPython.core.display.Math object>"
      ]
     },
     "metadata": {},
     "output_type": "display_data"
    }
   ],
   "source": [
    "x = sp.symbols('x')\n",
    "\n",
    "list_equation = [sp.Eq(x**2 - 4, 0), sp.Eq(x**2 - 3*x - 4, 0), sp.Eq(x**2 - 6*x + 9, 0), sp.Eq(x**2 - x - 1, 0),\n",
    "             sp.Eq(x**3 - 6*(x**2) + 11*x - 6, 0), sp.Eq(x**3 - 7*(x**2) + 15*x - 9, 0),\n",
    "             sp.Eq(x**5 + 7*(x**4) - 9*(x**2) + 15*x + 2, 0), sp.Eq(x**5 + 9*(x**2) + 2, 0)]\n",
    "\n",
    "i = 1\n",
    "for equation in list_equation:\n",
    "    solution = sp.solve(equation)\n",
    "    if(isinstance(solution, Iterable)):\n",
    "        solution = [sp.N(solution) for solution in solution]\n",
    "    display(Math(f\"{i}.\\\\quad {sp.latex(equation)}\"))\n",
    "    display(Math(f\"\\\\Rightarrow \\\\quad {sp.latex(solution)}\"))\n",
    "    i += 1"
   ]
  },
  {
   "cell_type": "markdown",
   "id": "22a01623",
   "metadata": {},
   "source": [
    "### B. Turunan"
   ]
  },
  {
   "cell_type": "code",
   "execution_count": 12,
   "id": "442fd2aa",
   "metadata": {},
   "outputs": [
    {
     "data": {
      "text/latex": [
       "$\\displaystyle 1.\\quad x^{3} + 3 x^{2} + 6 x$"
      ],
      "text/plain": [
       "<IPython.core.display.Math object>"
      ]
     },
     "metadata": {},
     "output_type": "display_data"
    },
    {
     "data": {
      "text/latex": [
       "$\\displaystyle \\Rightarrow \\quad 3 x^{2} + 6 x + 6$"
      ],
      "text/plain": [
       "<IPython.core.display.Math object>"
      ]
     },
     "metadata": {},
     "output_type": "display_data"
    },
    {
     "data": {
      "text/latex": [
       "$\\displaystyle 2.\\quad x^{5} + x^{4}$"
      ],
      "text/plain": [
       "<IPython.core.display.Math object>"
      ]
     },
     "metadata": {},
     "output_type": "display_data"
    },
    {
     "data": {
      "text/latex": [
       "$\\displaystyle \\Rightarrow \\quad 5 x^{4} + 4 x^{3}$"
      ],
      "text/plain": [
       "<IPython.core.display.Math object>"
      ]
     },
     "metadata": {},
     "output_type": "display_data"
    },
    {
     "data": {
      "text/latex": [
       "$\\displaystyle 3.\\quad \\left(3 x + 5\\right)^{3}$"
      ],
      "text/plain": [
       "<IPython.core.display.Math object>"
      ]
     },
     "metadata": {},
     "output_type": "display_data"
    },
    {
     "data": {
      "text/latex": [
       "$\\displaystyle \\Rightarrow \\quad 9 \\left(3 x + 5\\right)^{2}$"
      ],
      "text/plain": [
       "<IPython.core.display.Math object>"
      ]
     },
     "metadata": {},
     "output_type": "display_data"
    },
    {
     "data": {
      "text/latex": [
       "$\\displaystyle 4.\\quad \\left(3 - 5 x\\right)^{5}$"
      ],
      "text/plain": [
       "<IPython.core.display.Math object>"
      ]
     },
     "metadata": {},
     "output_type": "display_data"
    },
    {
     "data": {
      "text/latex": [
       "$\\displaystyle \\Rightarrow \\quad - 25 \\left(3 - 5 x\\right)^{4}$"
      ],
      "text/plain": [
       "<IPython.core.display.Math object>"
      ]
     },
     "metadata": {},
     "output_type": "display_data"
    },
    {
     "data": {
      "text/latex": [
       "$\\displaystyle 5.\\quad \\sin{\\left(7 x \\right)}$"
      ],
      "text/plain": [
       "<IPython.core.display.Math object>"
      ]
     },
     "metadata": {},
     "output_type": "display_data"
    },
    {
     "data": {
      "text/latex": [
       "$\\displaystyle \\Rightarrow \\quad 7 \\cos{\\left(7 x \\right)}$"
      ],
      "text/plain": [
       "<IPython.core.display.Math object>"
      ]
     },
     "metadata": {},
     "output_type": "display_data"
    },
    {
     "data": {
      "text/latex": [
       "$\\displaystyle 6.\\quad \\sin{\\left(x^{3} \\right)}$"
      ],
      "text/plain": [
       "<IPython.core.display.Math object>"
      ]
     },
     "metadata": {},
     "output_type": "display_data"
    },
    {
     "data": {
      "text/latex": [
       "$\\displaystyle \\Rightarrow \\quad 3 x^{2} \\cos{\\left(x^{3} \\right)}$"
      ],
      "text/plain": [
       "<IPython.core.display.Math object>"
      ]
     },
     "metadata": {},
     "output_type": "display_data"
    },
    {
     "data": {
      "text/latex": [
       "$\\displaystyle 7.\\quad \\frac{1}{x - 1}$"
      ],
      "text/plain": [
       "<IPython.core.display.Math object>"
      ]
     },
     "metadata": {},
     "output_type": "display_data"
    },
    {
     "data": {
      "text/latex": [
       "$\\displaystyle \\Rightarrow \\quad - \\frac{1}{\\left(x - 1\\right)^{2}}$"
      ],
      "text/plain": [
       "<IPython.core.display.Math object>"
      ]
     },
     "metadata": {},
     "output_type": "display_data"
    },
    {
     "data": {
      "text/latex": [
       "$\\displaystyle 8.\\quad \\frac{3 x}{1 - x}$"
      ],
      "text/plain": [
       "<IPython.core.display.Math object>"
      ]
     },
     "metadata": {},
     "output_type": "display_data"
    },
    {
     "data": {
      "text/latex": [
       "$\\displaystyle \\Rightarrow \\quad \\frac{3 x}{\\left(1 - x\\right)^{2}} + \\frac{3}{1 - x}$"
      ],
      "text/plain": [
       "<IPython.core.display.Math object>"
      ]
     },
     "metadata": {},
     "output_type": "display_data"
    }
   ],
   "source": [
    "list_function = [(x**3 + 3*(x**2) + 6*x), (x**5 + x**4), ((3*x + 5)**3), ((3 - 5*x)**5), (sp.sin(7*x)), (sp.sin(x**3)), (1 / (x - 1)), (3*x / (1 - x))]\n",
    "\n",
    "i = 1\n",
    "for y in list_function:\n",
    "    y_prime = y.diff(x)\n",
    "    display(Math(f\"{i}.\\\\quad {sp.latex(y)}\"))\n",
    "    display(Math(f\"\\\\Rightarrow \\\\quad {sp.latex(y_prime)}\"))\n",
    "    i += 1"
   ]
  },
  {
   "cell_type": "markdown",
   "id": "bd2db91b",
   "metadata": {},
   "source": [
    "### C. Integral"
   ]
  },
  {
   "cell_type": "code",
   "execution_count": null,
   "id": "b0665468",
   "metadata": {},
   "outputs": [
    {
     "data": {
      "text/latex": [
       "$\\displaystyle 1.\\quad \\int_0^2 x^{3}\\,dx$"
      ],
      "text/plain": [
       "<IPython.core.display.Math object>"
      ]
     },
     "metadata": {},
     "output_type": "display_data"
    },
    {
     "data": {
      "text/latex": [
       "$\\displaystyle \\Rightarrow \\quad 4$"
      ],
      "text/plain": [
       "<IPython.core.display.Math object>"
      ]
     },
     "metadata": {},
     "output_type": "display_data"
    },
    {
     "data": {
      "text/latex": [
       "$\\displaystyle 1.\\quad \\int_-1^2 x^{4}\\,dx$"
      ],
      "text/plain": [
       "<IPython.core.display.Math object>"
      ]
     },
     "metadata": {},
     "output_type": "display_data"
    },
    {
     "data": {
      "text/latex": [
       "$\\displaystyle \\Rightarrow \\quad \\frac{33}{5}$"
      ],
      "text/plain": [
       "<IPython.core.display.Math object>"
      ]
     },
     "metadata": {},
     "output_type": "display_data"
    },
    {
     "data": {
      "text/latex": [
       "$\\displaystyle 1.\\quad \\int_-1^2 3 x^{2} - 2 x + 3\\,dx$"
      ],
      "text/plain": [
       "<IPython.core.display.Math object>"
      ]
     },
     "metadata": {},
     "output_type": "display_data"
    },
    {
     "data": {
      "text/latex": [
       "$\\displaystyle \\Rightarrow \\quad 15$"
      ],
      "text/plain": [
       "<IPython.core.display.Math object>"
      ]
     },
     "metadata": {},
     "output_type": "display_data"
    },
    {
     "data": {
      "text/latex": [
       "$\\displaystyle 1.\\quad \\int_1^2 4 x^{3} + 7\\,dx$"
      ],
      "text/plain": [
       "<IPython.core.display.Math object>"
      ]
     },
     "metadata": {},
     "output_type": "display_data"
    },
    {
     "data": {
      "text/latex": [
       "$\\displaystyle \\Rightarrow \\quad 22$"
      ],
      "text/plain": [
       "<IPython.core.display.Math object>"
      ]
     },
     "metadata": {},
     "output_type": "display_data"
    },
    {
     "data": {
      "text/latex": [
       "$\\displaystyle 1.\\quad \\int_1^4 \\frac{1}{w^{2}}\\,dx$"
      ],
      "text/plain": [
       "<IPython.core.display.Math object>"
      ]
     },
     "metadata": {},
     "output_type": "display_data"
    },
    {
     "data": {
      "text/latex": [
       "$\\displaystyle \\Rightarrow \\quad \\frac{3}{w^{2}}$"
      ],
      "text/plain": [
       "<IPython.core.display.Math object>"
      ]
     },
     "metadata": {},
     "output_type": "display_data"
    },
    {
     "data": {
      "text/latex": [
       "$\\displaystyle 1.\\quad \\int_1^3 \\frac{2}{t^{3}}\\,dx$"
      ],
      "text/plain": [
       "<IPython.core.display.Math object>"
      ]
     },
     "metadata": {},
     "output_type": "display_data"
    },
    {
     "data": {
      "text/latex": [
       "$\\displaystyle \\Rightarrow \\quad \\frac{4}{t^{3}}$"
      ],
      "text/plain": [
       "<IPython.core.display.Math object>"
      ]
     },
     "metadata": {},
     "output_type": "display_data"
    },
    {
     "data": {
      "text/latex": [
       "$\\displaystyle 1.\\quad \\int_0^4 \\sqrt{t}\\,dx$"
      ],
      "text/plain": [
       "<IPython.core.display.Math object>"
      ]
     },
     "metadata": {},
     "output_type": "display_data"
    },
    {
     "data": {
      "text/latex": [
       "$\\displaystyle \\Rightarrow \\quad 4 \\sqrt{t}$"
      ],
      "text/plain": [
       "<IPython.core.display.Math object>"
      ]
     },
     "metadata": {},
     "output_type": "display_data"
    },
    {
     "data": {
      "text/latex": [
       "$\\displaystyle 8.\\quad \\int_1^8 \\sqrt[3]{w}\\,dx$"
      ],
      "text/plain": [
       "<IPython.core.display.Math object>"
      ]
     },
     "metadata": {},
     "output_type": "display_data"
    },
    {
     "data": {
      "text/latex": [
       "$\\displaystyle \\Rightarrow \\quad 7 \\sqrt[3]{w}$"
      ],
      "text/plain": [
       "<IPython.core.display.Math object>"
      ]
     },
     "metadata": {},
     "output_type": "display_data"
    },
    {
     "data": {
      "text/latex": [
       "$\\displaystyle 9.\\quad \\int_-4^-2 \\frac{9 x^{2}}{\\left(1 - x\\right)^{2}} + \\frac{\\left(1 - x\\right)^{3}}{27 x^{3}}\\,dx$"
      ],
      "text/plain": [
       "<IPython.core.display.Math object>"
      ]
     },
     "metadata": {},
     "output_type": "display_data"
    },
    {
     "data": {
      "text/latex": [
       "$\\displaystyle \\Rightarrow \\quad - 18 \\log{\\left(5 \\right)} - \\frac{\\log{\\left(4 \\right)}}{9} + \\frac{\\log{\\left(2 \\right)}}{9} + \\frac{82489}{4320} + 18 \\log{\\left(3 \\right)}$"
      ],
      "text/plain": [
       "<IPython.core.display.Math object>"
      ]
     },
     "metadata": {},
     "output_type": "display_data"
    },
    {
     "data": {
      "text/latex": [
       "$\\displaystyle 10.\\quad \\int_1^4 \\frac{s^{4} - 8}{s^{2}}\\,dx$"
      ],
      "text/plain": [
       "<IPython.core.display.Math object>"
      ]
     },
     "metadata": {},
     "output_type": "display_data"
    },
    {
     "data": {
      "text/latex": [
       "$\\displaystyle \\Rightarrow \\quad \\frac{3 \\left(s^{4} - 8\\right)}{s^{2}}$"
      ],
      "text/plain": [
       "<IPython.core.display.Math object>"
      ]
     },
     "metadata": {},
     "output_type": "display_data"
    },
    {
     "data": {
      "text/latex": [
       "$\\displaystyle 11.\\quad \\int_0^\\frac{\\pi}{2} \\cos{\\left(x \\right)}\\,dx$"
      ],
      "text/plain": [
       "<IPython.core.display.Math object>"
      ]
     },
     "metadata": {},
     "output_type": "display_data"
    },
    {
     "data": {
      "text/latex": [
       "$\\displaystyle \\Rightarrow \\quad 1$"
      ],
      "text/plain": [
       "<IPython.core.display.Math object>"
      ]
     },
     "metadata": {},
     "output_type": "display_data"
    },
    {
     "data": {
      "text/latex": [
       "$\\displaystyle 12.\\quad \\int_\\frac{\\pi}{6}^\\frac{\\pi}{2} \\cos{\\left(x \\right)}\\,dx$"
      ],
      "text/plain": [
       "<IPython.core.display.Math object>"
      ]
     },
     "metadata": {},
     "output_type": "display_data"
    },
    {
     "data": {
      "text/latex": [
       "$\\displaystyle \\Rightarrow \\quad 1$"
      ],
      "text/plain": [
       "<IPython.core.display.Math object>"
      ]
     },
     "metadata": {},
     "output_type": "display_data"
    },
    {
     "data": {
      "text/latex": [
       "$\\displaystyle 10.\\quad \\int_0^1 2 x^{4} - 3 x^{2} + 5\\,dx$"
      ],
      "text/plain": [
       "<IPython.core.display.Math object>"
      ]
     },
     "metadata": {},
     "output_type": "display_data"
    },
    {
     "data": {
      "text/latex": [
       "$\\displaystyle \\Rightarrow \\quad \\frac{22}{5}$"
      ],
      "text/plain": [
       "<IPython.core.display.Math object>"
      ]
     },
     "metadata": {},
     "output_type": "display_data"
    },
    {
     "data": {
      "text/latex": [
       "$\\displaystyle 14.\\quad \\int_0^1 2 x^{4} - 3 x^{2} + 5\\,dx$"
      ],
      "text/plain": [
       "<IPython.core.display.Math object>"
      ]
     },
     "metadata": {},
     "output_type": "display_data"
    },
    {
     "data": {
      "text/latex": [
       "$\\displaystyle \\Rightarrow \\quad \\frac{22}{5}$"
      ],
      "text/plain": [
       "<IPython.core.display.Math object>"
      ]
     },
     "metadata": {},
     "output_type": "display_data"
    }
   ],
   "source": [
    "w, t, s = sp.symbols('w, t, s')\n",
    "\n",
    "func1 = x**3\n",
    "func1_integral_def = sp.integrate(func1, (x, 0, 2))\n",
    "display(Math(f\"1.\\\\quad \\\\int_0^2 {sp.latex(func1)}\\\\,dx\"))\n",
    "display(Math(f\"\\\\Rightarrow \\\\quad {sp.latex(func1_integral_def)}\"))\n",
    "\n",
    "func2 = x**4\n",
    "func2_integral_def = sp.integrate(func2, (x, -1, 2))\n",
    "display(Math(f\"2.\\\\quad \\\\int_-1^2 {sp.latex(func2)}\\\\,dx\"))\n",
    "display(Math(f\"\\\\Rightarrow \\\\quad {sp.latex(func2_integral_def)}\"))\n",
    "\n",
    "func3 = 3*(x**2) - 2*x + 3\n",
    "func3_integral_def = sp.integrate(func3, (x, -1, 2))\n",
    "display(Math(f\"3.\\\\quad \\\\int_-1^2 {sp.latex(func3)}\\\\,dx\"))\n",
    "display(Math(f\"\\\\Rightarrow \\\\quad {sp.latex(func3_integral_def)}\"))\n",
    "\n",
    "func4 = 4*(x**3) + 7\n",
    "func4_integral_def = sp.integrate(func4, (x, 1, 2))\n",
    "display(Math(f\"4.\\\\quad \\\\int_1^2 {sp.latex(func4)}\\\\,dx\"))\n",
    "display(Math(f\"\\\\Rightarrow \\\\quad {sp.latex(func4_integral_def)}\"))\n",
    "\n",
    "func5 = 1 / (w**2)\n",
    "func5_integral_def = sp.integrate(func5, (x, 1, 4))\n",
    "display(Math(f\"5.\\\\quad \\\\int_1^4 {sp.latex(func5)}\\\\,dx\"))\n",
    "display(Math(f\"\\\\Rightarrow \\\\quad {sp.latex(func5_integral_def)}\"))\n",
    "\n",
    "func6 = 2 / (t**3)\n",
    "func6_integral_def = sp.integrate(func6, (x, 1, 3))\n",
    "display(Math(f\"6.\\\\quad \\\\int_1^3 {sp.latex(func6)}\\\\,dx\"))\n",
    "display(Math(f\"\\\\Rightarrow \\\\quad {sp.latex(func6_integral_def)}\"))\n",
    "\n",
    "func7 = sp.sqrt(t)\n",
    "func7_integral_def = sp.integrate(func7, (x, 0, 4))\n",
    "display(Math(f\"7.\\\\quad \\\\int_0^4 {sp.latex(func7)}\\\\,dx\"))\n",
    "display(Math(f\"\\\\Rightarrow \\\\quad {sp.latex(func7_integral_def)}\"))\n",
    "\n",
    "func8 = sp.root(w, 3)\n",
    "func8_integral_def = sp.integrate(func8, (x, 1, 8))\n",
    "display(Math(f\"8.\\\\quad \\\\int_1^8 {sp.latex(func8)}\\\\,dx\"))\n",
    "display(Math(f\"\\\\Rightarrow \\\\quad {sp.latex(func8_integral_def)}\"))\n",
    "\n",
    "func9 = y**2 + (1/(y**3))\n",
    "func9_integral_def = sp.integrate(func9, (x, -4, -2))\n",
    "display(Math(f\"9.\\\\quad \\\\int_-4^-2 {sp.latex(func9)}\\\\,dx\"))\n",
    "display(Math(f\"\\\\Rightarrow \\\\quad {sp.latex(func9_integral_def)}\"))\n",
    "\n",
    "func10 = (s**4 - 8) / (s**2)\n",
    "func10_integral_def = sp.integrate(func10, (x, 1, 4))\n",
    "display(Math(f\"10.\\\\quad \\\\int_1^4 {sp.latex(func10)}\\\\,dx\"))\n",
    "display(Math(f\"\\\\Rightarrow \\\\quad {sp.latex(func10_integral_def)}\"))\n",
    "\n",
    "func11 = sp.cos(x)\n",
    "func11_integral_def = sp.integrate(func11, (x, 0, (sp.pi / 2)))\n",
    "display(Math(f\"11.\\\\quad \\\\int_0^{sp.latex(sp.pi/2)} {sp.latex(func11)}\\\\,dx\"))\n",
    "display(Math(f\"\\\\Rightarrow \\\\quad {sp.latex(func11_integral_def)}\"))\n",
    "\n",
    "func12 = 2 * sp.sin(t)\n",
    "func12_integral_def = sp.integrate(func12, (x, (sp.pi / 6), (sp.pi / 2)))\n",
    "display(Math(f\"12.\\\\quad \\\\int_{sp.latex(sp.pi/6)}^{sp.latex(sp.pi/2)} {sp.latex(func11)}\\\\,dx\"))\n",
    "display(Math(f\"\\\\Rightarrow \\\\quad {sp.latex(func11_integral_def)}\"))\n",
    "\n",
    "func13 = 2*(x**4) - 3*(x**2) + 5\n",
    "func13_integral_def = sp.integrate(func13, (x, 0, 1))\n",
    "display(Math(f\"13.\\\\quad \\\\int_0^1 {sp.latex(func13)}\\\\,dx\"))\n",
    "display(Math(f\"\\\\Rightarrow \\\\quad {sp.latex(func13_integral_def)}\"))\n",
    "\n",
    "func14 = 2*(x**4) - 3*(x**2) + 5\n",
    "func14_integral_def = sp.integrate(func14, (x, 0, 1))\n",
    "display(Math(f\"14.\\\\quad \\\\int_0^1 {sp.latex(func14)}\\\\,dx\"))\n",
    "display(Math(f\"\\\\Rightarrow \\\\quad {sp.latex(func14_integral_def)}\"))"
   ]
  },
  {
   "cell_type": "markdown",
   "id": "1fe58cbe",
   "metadata": {},
   "source": [
    "### D. Matrix"
   ]
  },
  {
   "cell_type": "code",
   "execution_count": 32,
   "id": "b0a53f90",
   "metadata": {},
   "outputs": [
    {
     "data": {
      "text/latex": [
       "$\\displaystyle \\left[\\begin{matrix}1 & 0 & 0 & -1\\\\3 & 1 & 2 & 2\\\\1 & 0 & -2 & 1\\\\2 & 0 & 0 & 1\\end{matrix}\\right]$"
      ],
      "text/plain": [
       "<IPython.core.display.Math object>"
      ]
     },
     "metadata": {},
     "output_type": "display_data"
    },
    {
     "name": "stdout",
     "output_type": "stream",
     "text": [
      "Determinan A = -6\n"
     ]
    }
   ],
   "source": [
    "matrix_A = sp.Matrix([[1, 0, 0, -1], [3, 1, 2, 2], [1, 0, -2, 1], [2, 0, 0, 1]])\n",
    "det_matrix_A = matrix_A.det()\n",
    "display(Math(sp.latex(matrix_A)))\n",
    "print(\"Determinan A = \" + str(det_matrix_A))"
   ]
  }
 ],
 "metadata": {
  "kernelspec": {
   "display_name": "Python 3",
   "language": "python",
   "name": "python3"
  },
  "language_info": {
   "codemirror_mode": {
    "name": "ipython",
    "version": 3
   },
   "file_extension": ".py",
   "mimetype": "text/x-python",
   "name": "python",
   "nbconvert_exporter": "python",
   "pygments_lexer": "ipython3",
   "version": "3.12.4"
  }
 },
 "nbformat": 4,
 "nbformat_minor": 5
}
