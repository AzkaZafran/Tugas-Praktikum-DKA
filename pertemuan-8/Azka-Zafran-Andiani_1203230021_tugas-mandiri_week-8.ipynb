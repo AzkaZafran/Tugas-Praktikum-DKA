{
 "cells": [
  {
   "cell_type": "markdown",
   "id": "f69d1aae",
   "metadata": {},
   "source": [
    "<div align='center'>\n",
    "    <h1>Jurnal Praktikum Dasar Kecerdasan Artifisial</h1>\n",
    "    <h3>Modul Hill Climbing</h3>\n",
    "</div>"
   ]
  },
  {
   "cell_type": "code",
   "execution_count": 1,
   "id": "e3824f05",
   "metadata": {},
   "outputs": [],
   "source": [
    "import random"
   ]
  },
  {
   "cell_type": "code",
   "execution_count": 2,
   "id": "47bef3c0",
   "metadata": {},
   "outputs": [],
   "source": [
    "def initiateAwal(kota: list):\n",
    "    choice = kota.copy()\n",
    "    rute = []\n",
    "    start = random.choice(choice)\n",
    "\n",
    "    rute.append(start)\n",
    "    choice.remove(start)\n",
    "\n",
    "    while choice:\n",
    "        selected = random.choice(choice)\n",
    "        rute.append(selected)\n",
    "        choice.remove(selected)\n",
    "\n",
    "    rute.append(start)\n",
    "    \n",
    "    return rute"
   ]
  },
  {
   "cell_type": "code",
   "execution_count": 3,
   "id": "bc8fbf65",
   "metadata": {},
   "outputs": [],
   "source": [
    "def totalDistance(rute, jarak):\n",
    "    total = 0\n",
    "    for i in range(len(rute)-1):\n",
    "        total += jarak[(rute[i], rute[i+1])]\n",
    "    return total"
   ]
  },
  {
   "cell_type": "markdown",
   "id": "86b5ef10",
   "metadata": {},
   "source": [
    "Soal 1: Buat solusi awal"
   ]
  },
  {
   "cell_type": "code",
   "execution_count": 7,
   "id": "8419fdea",
   "metadata": {},
   "outputs": [
    {
     "name": "stdout",
     "output_type": "stream",
     "text": [
      "rute 0: ['B', 'D', 'C', 'A', 'E', 'B']\n",
      "total jarak: 110\n"
     ]
    }
   ],
   "source": [
    "kota = ['A', 'B', 'C', 'D', 'E']\n",
    "\n",
    "jarakKota = {('A', 'B'): 10, ('A', 'C'): 15, ('A', 'D'): 20,\n",
    "             ('A', 'E'): 25, ('B', 'A'): 10, ('B', 'C'): 35,\n",
    "             ('B', 'D'): 25, ('B', 'E'): 15, ('C', 'A'): 15,\n",
    "             ('C', 'B'): 35,('C', 'D'): 30, ('C', 'E'): 20,\n",
    "             ('D', 'A'): 20, ('D', 'B'): 25, ('D', 'C'): 30,\n",
    "             ('D', 'E'): 10, ('E', 'A'): 25, ('E', 'B'): 15,\n",
    "             ('E', 'C'): 20, ('E', 'D'): 10}\n",
    "\n",
    "current_solution = initiateAwal(kota)\n",
    "current_distance = totalDistance(current_solution, jarakKota)\n",
    "i = 0\n",
    "print(f'rute {i}: {current_solution}')\n",
    "print(f'total jarak: {current_distance}')"
   ]
  },
  {
   "cell_type": "markdown",
   "id": "6b22cc8b",
   "metadata": {},
   "source": [
    "Soal 2: Cara menghasilkan neighbor"
   ]
  },
  {
   "cell_type": "code",
   "execution_count": 5,
   "id": "da6682fd",
   "metadata": {},
   "outputs": [],
   "source": [
    "def get_neighbors(rute):\n",
    "    neighbors = []\n",
    "    # memmbuat tetangga dengan mencari semua kombinasi swap rute dari induknya\n",
    "    for i in range(1, len(rute)-1):\n",
    "        for j in range(i + 1, len(rute)-2):\n",
    "            neighbor = rute[:]\n",
    "            neighbor[i], neighbor[j] = neighbor[j], neighbor[i]\n",
    "            neighbors.append(neighbor)\n",
    "    return neighbors"
   ]
  },
  {
   "cell_type": "markdown",
   "id": "d9565894",
   "metadata": {},
   "source": [
    "Soal 3: Algoritma Hill Climbing"
   ]
  },
  {
   "cell_type": "code",
   "execution_count": 8,
   "id": "0b906770",
   "metadata": {},
   "outputs": [
    {
     "name": "stdout",
     "output_type": "stream",
     "text": [
      "rute 1: ['B', 'A', 'C', 'D', 'E', 'B']\n",
      "total jarak: 80\n",
      "Solusi terbaik (urutan kota): ['B', 'A', 'C', 'D', 'E', 'B']\n",
      "Total jarak terbaik: 80\n"
     ]
    }
   ],
   "source": [
    "while True:\n",
    "    neighbors = get_neighbors(current_solution)\n",
    "    best_neighbor = min(neighbors, key=lambda rute: totalDistance(rute, jarakKota))\n",
    "    best_distance = totalDistance(best_neighbor, jarakKota)\n",
    "    if best_distance >= current_distance:\n",
    "        break\n",
    "    current_solution = best_neighbor\n",
    "    current_distance = best_distance\n",
    "    i += 1\n",
    "    print(f'rute {i}: {current_solution}')\n",
    "    print(f'total jarak: {current_distance}')\n",
    "print(\"Solusi terbaik (urutan kota):\", current_solution)\n",
    "print(\"Total jarak terbaik:\", current_distance)"
   ]
  },
  {
   "cell_type": "markdown",
   "id": "afeb07e1",
   "metadata": {},
   "source": [
    "Soal 4\n",
    "\n",
    "Jawaban:\n",
    "rute terpendek yang ditemukan algoritma hill climbing adalah 'B - A - C - D - E - B', dengan total jarak 80.\n",
    "Iya, rute ini merupakan solusi paling optimal"
   ]
  }
 ],
 "metadata": {
  "kernelspec": {
   "display_name": "Python 3",
   "language": "python",
   "name": "python3"
  },
  "language_info": {
   "codemirror_mode": {
    "name": "ipython",
    "version": 3
   },
   "file_extension": ".py",
   "mimetype": "text/x-python",
   "name": "python",
   "nbconvert_exporter": "python",
   "pygments_lexer": "ipython3",
   "version": "3.12.4"
  }
 },
 "nbformat": 4,
 "nbformat_minor": 5
}
